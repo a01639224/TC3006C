{
  "nbformat": 4,
  "nbformat_minor": 0,
  "metadata": {
    "colab": {
      "provenance": []
    },
    "kernelspec": {
      "name": "python3",
      "display_name": "Python 3"
    },
    "language_info": {
      "name": "python"
    }
  },
  "cells": [
    {
      "cell_type": "markdown",
      "source": [
        "<h1>Distribución t-student. B</h1>\n",
        "\n",
        "A01639224 | Fausto Alejandro Palma Cervantes\n",
        "\n",
        "TC3006C.102 | Inteligencia artificial avanzada para la ciencia de datos I\n",
        "\n",
        "24 de agosto de 2023\n"
      ],
      "metadata": {
        "id": "61C87phd11O-"
      }
    },
    {
      "cell_type": "markdown",
      "source": [
        "## Librerías y módulos"
      ],
      "metadata": {
        "id": "3eiBtkQb7_7z"
      }
    },
    {
      "cell_type": "code",
      "execution_count": 1,
      "metadata": {
        "id": "-sgfmU281zSC"
      },
      "outputs": [],
      "source": [
        "# Importar librerías y módulos necesarios\n",
        "import pandas as pd\n",
        "from sklearn.preprocessing import StandardScaler\n",
        "import statsmodels.api as sm\n",
        "import scipy.stats as stats\n",
        "import numpy as np"
      ]
    },
    {
      "cell_type": "markdown",
      "source": [
        "## 1.- Convierte los datos en un DataFrame.\n",
        "\n",
        "Esto te ayudará a realizar tus cálculos"
      ],
      "metadata": {
        "id": "ZoRPwnq4ceDX"
      }
    },
    {
      "cell_type": "code",
      "source": [
        "# Datos\n",
        "data = {'A': [20, 25, 22, 23, 28, 26, 24, 21, 27, 25, 24, 22, 23, 26, 25,\n",
        "              23, 24, 22, 27, 26, 25, 24, 23, 22, 21, 26, 24, 25, 22, 23],\n",
        "        'B': [19, 18, 21, 20, 23, 22, 20, 19, 22, 21, 20, 19, 18, 23, 22,\n",
        "              21, 20, 19, 23, 22, 21, 20, 19, 18, 23, 22, 21, 20, 19, 18]}\n",
        "\n",
        "# Convertir a DataFrame\n",
        "df = pd.DataFrame(data=data)\n",
        "\n",
        "df.head()"
      ],
      "metadata": {
        "colab": {
          "base_uri": "https://localhost:8080/",
          "height": 206
        },
        "id": "VqVp4yxEcodk",
        "outputId": "3d2566c3-c489-49de-aa08-836ab9c8d0b2"
      },
      "execution_count": 2,
      "outputs": [
        {
          "output_type": "execute_result",
          "data": {
            "text/plain": [
              "    A   B\n",
              "0  20  19\n",
              "1  25  18\n",
              "2  22  21\n",
              "3  23  20\n",
              "4  28  23"
            ],
            "text/html": [
              "\n",
              "  <div id=\"df-12174ed2-8697-420e-9109-1c3ef5342ebf\" class=\"colab-df-container\">\n",
              "    <div>\n",
              "<style scoped>\n",
              "    .dataframe tbody tr th:only-of-type {\n",
              "        vertical-align: middle;\n",
              "    }\n",
              "\n",
              "    .dataframe tbody tr th {\n",
              "        vertical-align: top;\n",
              "    }\n",
              "\n",
              "    .dataframe thead th {\n",
              "        text-align: right;\n",
              "    }\n",
              "</style>\n",
              "<table border=\"1\" class=\"dataframe\">\n",
              "  <thead>\n",
              "    <tr style=\"text-align: right;\">\n",
              "      <th></th>\n",
              "      <th>A</th>\n",
              "      <th>B</th>\n",
              "    </tr>\n",
              "  </thead>\n",
              "  <tbody>\n",
              "    <tr>\n",
              "      <th>0</th>\n",
              "      <td>20</td>\n",
              "      <td>19</td>\n",
              "    </tr>\n",
              "    <tr>\n",
              "      <th>1</th>\n",
              "      <td>25</td>\n",
              "      <td>18</td>\n",
              "    </tr>\n",
              "    <tr>\n",
              "      <th>2</th>\n",
              "      <td>22</td>\n",
              "      <td>21</td>\n",
              "    </tr>\n",
              "    <tr>\n",
              "      <th>3</th>\n",
              "      <td>23</td>\n",
              "      <td>20</td>\n",
              "    </tr>\n",
              "    <tr>\n",
              "      <th>4</th>\n",
              "      <td>28</td>\n",
              "      <td>23</td>\n",
              "    </tr>\n",
              "  </tbody>\n",
              "</table>\n",
              "</div>\n",
              "    <div class=\"colab-df-buttons\">\n",
              "\n",
              "  <div class=\"colab-df-container\">\n",
              "    <button class=\"colab-df-convert\" onclick=\"convertToInteractive('df-12174ed2-8697-420e-9109-1c3ef5342ebf')\"\n",
              "            title=\"Convert this dataframe to an interactive table.\"\n",
              "            style=\"display:none;\">\n",
              "\n",
              "  <svg xmlns=\"http://www.w3.org/2000/svg\" height=\"24px\" viewBox=\"0 -960 960 960\">\n",
              "    <path d=\"M120-120v-720h720v720H120Zm60-500h600v-160H180v160Zm220 220h160v-160H400v160Zm0 220h160v-160H400v160ZM180-400h160v-160H180v160Zm440 0h160v-160H620v160ZM180-180h160v-160H180v160Zm440 0h160v-160H620v160Z\"/>\n",
              "  </svg>\n",
              "    </button>\n",
              "\n",
              "  <style>\n",
              "    .colab-df-container {\n",
              "      display:flex;\n",
              "      gap: 12px;\n",
              "    }\n",
              "\n",
              "    .colab-df-convert {\n",
              "      background-color: #E8F0FE;\n",
              "      border: none;\n",
              "      border-radius: 50%;\n",
              "      cursor: pointer;\n",
              "      display: none;\n",
              "      fill: #1967D2;\n",
              "      height: 32px;\n",
              "      padding: 0 0 0 0;\n",
              "      width: 32px;\n",
              "    }\n",
              "\n",
              "    .colab-df-convert:hover {\n",
              "      background-color: #E2EBFA;\n",
              "      box-shadow: 0px 1px 2px rgba(60, 64, 67, 0.3), 0px 1px 3px 1px rgba(60, 64, 67, 0.15);\n",
              "      fill: #174EA6;\n",
              "    }\n",
              "\n",
              "    .colab-df-buttons div {\n",
              "      margin-bottom: 4px;\n",
              "    }\n",
              "\n",
              "    [theme=dark] .colab-df-convert {\n",
              "      background-color: #3B4455;\n",
              "      fill: #D2E3FC;\n",
              "    }\n",
              "\n",
              "    [theme=dark] .colab-df-convert:hover {\n",
              "      background-color: #434B5C;\n",
              "      box-shadow: 0px 1px 3px 1px rgba(0, 0, 0, 0.15);\n",
              "      filter: drop-shadow(0px 1px 2px rgba(0, 0, 0, 0.3));\n",
              "      fill: #FFFFFF;\n",
              "    }\n",
              "  </style>\n",
              "\n",
              "    <script>\n",
              "      const buttonEl =\n",
              "        document.querySelector('#df-12174ed2-8697-420e-9109-1c3ef5342ebf button.colab-df-convert');\n",
              "      buttonEl.style.display =\n",
              "        google.colab.kernel.accessAllowed ? 'block' : 'none';\n",
              "\n",
              "      async function convertToInteractive(key) {\n",
              "        const element = document.querySelector('#df-12174ed2-8697-420e-9109-1c3ef5342ebf');\n",
              "        const dataTable =\n",
              "          await google.colab.kernel.invokeFunction('convertToInteractive',\n",
              "                                                    [key], {});\n",
              "        if (!dataTable) return;\n",
              "\n",
              "        const docLinkHtml = 'Like what you see? Visit the ' +\n",
              "          '<a target=\"_blank\" href=https://colab.research.google.com/notebooks/data_table.ipynb>data table notebook</a>'\n",
              "          + ' to learn more about interactive tables.';\n",
              "        element.innerHTML = '';\n",
              "        dataTable['output_type'] = 'display_data';\n",
              "        await google.colab.output.renderOutput(dataTable, element);\n",
              "        const docLink = document.createElement('div');\n",
              "        docLink.innerHTML = docLinkHtml;\n",
              "        element.appendChild(docLink);\n",
              "      }\n",
              "    </script>\n",
              "  </div>\n",
              "\n",
              "\n",
              "<div id=\"df-0ea0b141-8262-4b94-b5df-123e74876d82\">\n",
              "  <button class=\"colab-df-quickchart\" onclick=\"quickchart('df-0ea0b141-8262-4b94-b5df-123e74876d82')\"\n",
              "            title=\"Suggest charts.\"\n",
              "            style=\"display:none;\">\n",
              "\n",
              "<svg xmlns=\"http://www.w3.org/2000/svg\" height=\"24px\"viewBox=\"0 0 24 24\"\n",
              "     width=\"24px\">\n",
              "    <g>\n",
              "        <path d=\"M19 3H5c-1.1 0-2 .9-2 2v14c0 1.1.9 2 2 2h14c1.1 0 2-.9 2-2V5c0-1.1-.9-2-2-2zM9 17H7v-7h2v7zm4 0h-2V7h2v10zm4 0h-2v-4h2v4z\"/>\n",
              "    </g>\n",
              "</svg>\n",
              "  </button>\n",
              "\n",
              "<style>\n",
              "  .colab-df-quickchart {\n",
              "      --bg-color: #E8F0FE;\n",
              "      --fill-color: #1967D2;\n",
              "      --hover-bg-color: #E2EBFA;\n",
              "      --hover-fill-color: #174EA6;\n",
              "      --disabled-fill-color: #AAA;\n",
              "      --disabled-bg-color: #DDD;\n",
              "  }\n",
              "\n",
              "  [theme=dark] .colab-df-quickchart {\n",
              "      --bg-color: #3B4455;\n",
              "      --fill-color: #D2E3FC;\n",
              "      --hover-bg-color: #434B5C;\n",
              "      --hover-fill-color: #FFFFFF;\n",
              "      --disabled-bg-color: #3B4455;\n",
              "      --disabled-fill-color: #666;\n",
              "  }\n",
              "\n",
              "  .colab-df-quickchart {\n",
              "    background-color: var(--bg-color);\n",
              "    border: none;\n",
              "    border-radius: 50%;\n",
              "    cursor: pointer;\n",
              "    display: none;\n",
              "    fill: var(--fill-color);\n",
              "    height: 32px;\n",
              "    padding: 0;\n",
              "    width: 32px;\n",
              "  }\n",
              "\n",
              "  .colab-df-quickchart:hover {\n",
              "    background-color: var(--hover-bg-color);\n",
              "    box-shadow: 0 1px 2px rgba(60, 64, 67, 0.3), 0 1px 3px 1px rgba(60, 64, 67, 0.15);\n",
              "    fill: var(--button-hover-fill-color);\n",
              "  }\n",
              "\n",
              "  .colab-df-quickchart-complete:disabled,\n",
              "  .colab-df-quickchart-complete:disabled:hover {\n",
              "    background-color: var(--disabled-bg-color);\n",
              "    fill: var(--disabled-fill-color);\n",
              "    box-shadow: none;\n",
              "  }\n",
              "\n",
              "  .colab-df-spinner {\n",
              "    border: 2px solid var(--fill-color);\n",
              "    border-color: transparent;\n",
              "    border-bottom-color: var(--fill-color);\n",
              "    animation:\n",
              "      spin 1s steps(1) infinite;\n",
              "  }\n",
              "\n",
              "  @keyframes spin {\n",
              "    0% {\n",
              "      border-color: transparent;\n",
              "      border-bottom-color: var(--fill-color);\n",
              "      border-left-color: var(--fill-color);\n",
              "    }\n",
              "    20% {\n",
              "      border-color: transparent;\n",
              "      border-left-color: var(--fill-color);\n",
              "      border-top-color: var(--fill-color);\n",
              "    }\n",
              "    30% {\n",
              "      border-color: transparent;\n",
              "      border-left-color: var(--fill-color);\n",
              "      border-top-color: var(--fill-color);\n",
              "      border-right-color: var(--fill-color);\n",
              "    }\n",
              "    40% {\n",
              "      border-color: transparent;\n",
              "      border-right-color: var(--fill-color);\n",
              "      border-top-color: var(--fill-color);\n",
              "    }\n",
              "    60% {\n",
              "      border-color: transparent;\n",
              "      border-right-color: var(--fill-color);\n",
              "    }\n",
              "    80% {\n",
              "      border-color: transparent;\n",
              "      border-right-color: var(--fill-color);\n",
              "      border-bottom-color: var(--fill-color);\n",
              "    }\n",
              "    90% {\n",
              "      border-color: transparent;\n",
              "      border-bottom-color: var(--fill-color);\n",
              "    }\n",
              "  }\n",
              "</style>\n",
              "\n",
              "  <script>\n",
              "    async function quickchart(key) {\n",
              "      const quickchartButtonEl =\n",
              "        document.querySelector('#' + key + ' button');\n",
              "      quickchartButtonEl.disabled = true;  // To prevent multiple clicks.\n",
              "      quickchartButtonEl.classList.add('colab-df-spinner');\n",
              "      try {\n",
              "        const charts = await google.colab.kernel.invokeFunction(\n",
              "            'suggestCharts', [key], {});\n",
              "      } catch (error) {\n",
              "        console.error('Error during call to suggestCharts:', error);\n",
              "      }\n",
              "      quickchartButtonEl.classList.remove('colab-df-spinner');\n",
              "      quickchartButtonEl.classList.add('colab-df-quickchart-complete');\n",
              "    }\n",
              "    (() => {\n",
              "      let quickchartButtonEl =\n",
              "        document.querySelector('#df-0ea0b141-8262-4b94-b5df-123e74876d82 button');\n",
              "      quickchartButtonEl.style.display =\n",
              "        google.colab.kernel.accessAllowed ? 'block' : 'none';\n",
              "    })();\n",
              "  </script>\n",
              "</div>\n",
              "    </div>\n",
              "  </div>\n"
            ]
          },
          "metadata": {},
          "execution_count": 2
        }
      ]
    },
    {
      "cell_type": "markdown",
      "source": [
        "## 2.- Realiza una gráfica QQ-plot para determinar si los datos siguen una distribución normal.\n",
        "\n",
        "Recuerda que por defecto el método QQ-plot compara los datos con una normal estandar. Para obtener un correcto ajuste estandariza los datos o cambia los parámetros de la gráfica QQ-plot.\n",
        "\n"
      ],
      "metadata": {
        "id": "8baTG-kNdNsd"
      }
    },
    {
      "cell_type": "code",
      "source": [
        "# Estandarizar los datos\n",
        "scaler = StandardScaler()\n",
        "df_standardized = pd.DataFrame(scaler.fit_transform(df), columns=df.columns)"
      ],
      "metadata": {
        "id": "xVbHTBWbDGp7"
      },
      "execution_count": 3,
      "outputs": []
    },
    {
      "cell_type": "code",
      "source": [
        "# Crear la gráfica QQ-plot con una distribución normal (Jugo A)\n",
        "print('QQ-plot del Tipo de Jugo A:')\n",
        "fig = sm.qqplot(df_standardized['A'], line='45')"
      ],
      "metadata": {
        "colab": {
          "base_uri": "https://localhost:8080/",
          "height": 467
        },
        "id": "czDY8d18DKpZ",
        "outputId": "77c0e9d1-0482-472f-cd66-01f021b97693"
      },
      "execution_count": 4,
      "outputs": [
        {
          "output_type": "stream",
          "name": "stdout",
          "text": [
            "QQ-plot del Tipo de Jugo A:\n"
          ]
        },
        {
          "output_type": "display_data",
          "data": {
            "text/plain": [
              "<Figure size 640x480 with 1 Axes>"
            ],
            "image/png": "[encoded data removed]"
          },
          "metadata": {}
        }
      ]
    },
    {
      "cell_type": "code",
      "source": [
        "# Crear la gráfica QQ-plot con una distribución normal (Jugo B)\n",
        "print('QQ-plot del Tipo de Jugo B:')\n",
        "fig = sm.qqplot(df_standardized['B'], line='45')"
      ],
      "metadata": {
        "colab": {
          "base_uri": "https://localhost:8080/",
          "height": 467
        },
        "id": "hlhQD2U7qdjv",
        "outputId": "80b18470-842c-42d6-d993-0c2edfe6451d"
      },
      "execution_count": 5,
      "outputs": [
        {
          "output_type": "stream",
          "name": "stdout",
          "text": [
            "QQ-plot del Tipo de Jugo B:\n"
          ]
        },
        {
          "output_type": "display_data",
          "data": {
            "text/plain": [
              "<Figure size 640x480 with 1 Axes>"
            ],
            "image/png": "[encoded data removed]"
          },
          "metadata": {}
        }
      ]
    },
    {
      "cell_type": "markdown",
      "source": [
        "## 3.- Aplica el test de Kolmogorov Smirnov para asegurarte si los datos son o no normales.\n",
        "\n",
        "Por defecto el test Kolmogorov compara los datos con una normal estandar, cambia los parámetros o estandariza los datos."
      ],
      "metadata": {
        "id": "HRVviDoD6EvF"
      }
    },
    {
      "cell_type": "code",
      "source": [
        "# Aplicar el test de Kolmogorov Smirnov (Jugo A)\n",
        "ktest = stats.kstest(df_standardized['A'], 'norm')\n",
        "\n",
        "# Imprimir resultados\n",
        "print('Resultados del test de Kolmogorov Smirnov para el Tipo de Jugo A:')\n",
        "print(ktest)"
      ],
      "metadata": {
        "id": "0ONrx6yS3TxQ",
        "colab": {
          "base_uri": "https://localhost:8080/"
        },
        "outputId": "f04eec0c-68ee-40f9-dc1c-7e1b87d20980"
      },
      "execution_count": 6,
      "outputs": [
        {
          "output_type": "stream",
          "name": "stdout",
          "text": [
            "Resultados del test de Kolmogorov Smirnov para el Tipo de Jugo A:\n",
            "KstestResult(statistic=0.11738896673840382, pvalue=0.7596266894154436, statistic_location=-0.4790701375804085, statistic_sign=1)\n"
          ]
        }
      ]
    },
    {
      "cell_type": "code",
      "source": [
        "# Aplicar el test de Kolmogorov Smirnov (Jugo B)\n",
        "ktest = stats.kstest(df_standardized['A'], 'norm')\n",
        "\n",
        "# Imprimir resultados\n",
        "print('Resultados del test de Kolmogorov Smirnov para el Tipo de Jugo B:')\n",
        "print(ktest)"
      ],
      "metadata": {
        "colab": {
          "base_uri": "https://localhost:8080/"
        },
        "id": "BoxlQaUFDkXB",
        "outputId": "cadd6fac-1b7f-4193-8130-d4e2a19d75cb"
      },
      "execution_count": 7,
      "outputs": [
        {
          "output_type": "stream",
          "name": "stdout",
          "text": [
            "Resultados del test de Kolmogorov Smirnov para el Tipo de Jugo B:\n",
            "KstestResult(statistic=0.11738896673840382, pvalue=0.7596266894154436, statistic_location=-0.4790701375804085, statistic_sign=1)\n"
          ]
        }
      ]
    },
    {
      "cell_type": "markdown",
      "source": [
        "Al analizar los resultados del test de Kolmogorov Smirnov entre los datos y una normal estándar se pueden observar p-valores altos. Dentro del contexto del problema, el p-valor indica la similitud que existe entre la normal estándar y los datos (siendo la hipótesis nula que no hay diferencias importantes entre ambas). Ya que se tienen p-valores altos es posible rechazar la hipótesis nula. Pese a ello, no se puede concluir que los datos siguen a la normal estándar. Al ver las gráficas QQ-plot que se hicieron anteriormente de los mismos datos es posible observar que los datos tienen tendencias similares a la normal estándar pero que no siguen la línea diagonal de cerca, especialmente notable en su forma escalonada. Considerando toda la información disponible, se puede concluir que los datos no son normales."
      ],
      "metadata": {
        "id": "A2jagM1m7eAi"
      }
    },
    {
      "cell_type": "markdown",
      "source": [
        "## 4.- En caso de que no sean normales considera que tienen una distribución t-student."
      ],
      "metadata": {
        "id": "DhH_Upfb6hav"
      }
    },
    {
      "cell_type": "markdown",
      "source": [
        "## 5.- Calcula el intervalo de confianza de acuerdo con la distribución de los datos y el nivel de confianza solicitado."
      ],
      "metadata": {
        "id": "_iXv57wI7v9y"
      }
    },
    {
      "cell_type": "code",
      "source": [
        "# Conjunto de datos (Jugo A)\n",
        "data = df['A']\n",
        "\n",
        "# Nivel de confianza (99%)\n",
        "confidence_level = 0.99\n",
        "\n",
        "# Calcular el valor crítico\n",
        "t_critical = stats.t.ppf((1+confidence_level)/2, len(data)-1)\n",
        "\n",
        "# Calcular el margen de error\n",
        "margin_of_error = t_critical * (np.std(data, ddof=1) / np.sqrt(len(data)))\n",
        "\n",
        "# Calcular el intervalo de confianza\n",
        "confidence_interval = (np.mean(data) - margin_of_error, np.mean(data) + margin_of_error)\n",
        "\n",
        "# Imprimir el intervals de confianza\n",
        "print('Intervalo de confianza para el Tipo de Jugo A:')\n",
        "print(confidence_interval)"
      ],
      "metadata": {
        "colab": {
          "base_uri": "https://localhost:8080/"
        },
        "id": "g7F1d9C4L55s",
        "outputId": "168b133d-4446-45ec-b14b-51a80b2ffb0d"
      },
      "execution_count": 11,
      "outputs": [
        {
          "output_type": "stream",
          "name": "stdout",
          "text": [
            "Intervalo de confianza para el Tipo de Jugo A:\n",
            "(22.936141535685323, 24.930525130981344)\n"
          ]
        }
      ]
    },
    {
      "cell_type": "code",
      "source": [
        "# Conjunto de datos (Jugo B)\n",
        "data = df['B']\n",
        "\n",
        "# Nivel de confianza (99%)\n",
        "confidence_level = 0.99\n",
        "\n",
        "# Calcular el valor crítico\n",
        "t_critical = stats.t.ppf((1+confidence_level)/2, len(data)-1)\n",
        "\n",
        "# Calcular el margen de error\n",
        "margin_of_error = t_critical * (np.std(data, ddof=1) / np.sqrt(len(data)))\n",
        "\n",
        "# Calcular el intervalo de confianza\n",
        "confidence_interval = (np.mean(data) - margin_of_error, np.mean(data) + margin_of_error)\n",
        "\n",
        "# Imprimir el intervals de confianza\n",
        "print('Intervalo de confianza para el Tipo de Jugo B:')\n",
        "print(confidence_interval)"
      ],
      "metadata": {
        "colab": {
          "base_uri": "https://localhost:8080/"
        },
        "id": "xr6rVUNXfGia",
        "outputId": "66d342e4-9574-4e48-ebe7-7b3c386c09c5"
      },
      "execution_count": 12,
      "outputs": [
        {
          "output_type": "stream",
          "name": "stdout",
          "text": [
            "Intervalo de confianza para el Tipo de Jugo B:\n",
            "(19.611360740938043, 21.255305925728624)\n"
          ]
        }
      ]
    }
  ]
}