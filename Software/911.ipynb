{
  "nbformat": 4,
  "nbformat_minor": 0,
  "metadata": {
    "colab": {
      "provenance": []
    },
    "kernelspec": {
      "name": "python3",
      "display_name": "Python 3"
    },
    "language_info": {
      "name": "python"
    }
  },
  "cells": [
    {
      "cell_type": "code",
      "source": [
        "import pandas as pd\n",
        "import numpy as np"
      ],
      "metadata": {
        "id": "nfnuV9kKKFig"
      },
      "execution_count": null,
      "outputs": []
    },
    {
      "cell_type": "code",
      "source": [
        "estadistica911Df = pd.read_csv('/content/drive/MyDrive/911-all - 911.csv')"
      ],
      "metadata": {
        "id": "e3LAgNw05pDz"
      },
      "execution_count": null,
      "outputs": []
    },
    {
      "cell_type": "code",
      "source": [
        "estadistica911Df.shape"
      ],
      "metadata": {
        "colab": {
          "base_uri": "https://localhost:8080/"
        },
        "id": "cDJVDQsL_edq",
        "outputId": "d7ea8aab-f31f-4107-8917-ce7df672c6f6"
      },
      "execution_count": null,
      "outputs": [
        {
          "output_type": "execute_result",
          "data": {
            "text/plain": [
              "(11688, 14)"
            ]
          },
          "metadata": {},
          "execution_count": 3
        }
      ]
    },
    {
      "cell_type": "code",
      "source": [
        "sierraAmulaDf = estadistica911Df[estadistica911Df['cve.municipio'].isin([11, 32, 34, 37, 52, 54, 88, 90, 102, 106, 110])]\n",
        "sierraAmulaDf = sierraAmulaDf[sierraAmulaDf['clave.carr'].astype(str).str.startswith(('54', '55', '56', '57'))]"
      ],
      "metadata": {
        "id": "J7AOPIvC7Wsi"
      },
      "execution_count": null,
      "outputs": []
    },
    {
      "cell_type": "code",
      "source": [
        "sierraAmulaDf.shape"
      ],
      "metadata": {
        "colab": {
          "base_uri": "https://localhost:8080/"
        },
        "id": "7I3Cr60L9YG5",
        "outputId": "df6d5c4b-bfa6-453a-856d-81afdd2af90a"
      },
      "execution_count": null,
      "outputs": [
        {
          "output_type": "execute_result",
          "data": {
            "text/plain": [
              "(19, 14)"
            ]
          },
          "metadata": {},
          "execution_count": 5
        }
      ]
    },
    {
      "cell_type": "code",
      "source": [
        "carreras2223sierraAmulaDf = sierraAmulaDf[sierraAmulaDf['X.periodo']=='p2022-2023']\n",
        "carreras2223sierraAmulaDf.shape"
      ],
      "metadata": {
        "colab": {
          "base_uri": "https://localhost:8080/"
        },
        "id": "h9UV-6fq-NTB",
        "outputId": "b99b0c46-b7cf-40ab-ce63-70604e38cf09"
      },
      "execution_count": null,
      "outputs": [
        {
          "output_type": "execute_result",
          "data": {
            "text/plain": [
              "(0, 14)"
            ]
          },
          "metadata": {},
          "execution_count": 6
        }
      ]
    },
    {
      "cell_type": "code",
      "source": [
        "carrerasSierraAmula = sierraAmulaDf.groupby(['carrera'])['nuevo.ingreso'].sum().sort_values(ascending=False)\n",
        "carrerasSierraAmula"
      ],
      "metadata": {
        "colab": {
          "base_uri": "https://localhost:8080/"
        },
        "id": "r0gK-c6Z7vxI",
        "outputId": "d95332b6-cf6a-4c11-e7af-f41f941b96ff"
      },
      "execution_count": null,
      "outputs": [
        {
          "output_type": "execute_result",
          "data": {
            "text/plain": [
              "carrera\n",
              "ARQUITECTURA                       105\n",
              "INGENIER√çA INFORM√ÅTICA            85\n",
              "INGENIER√çA INDUSTRIAL              80\n",
              "INGENIER√çA ELECTROMEC√ÅNICA        59\n",
              "INGENIER√çA EN ELECTROMEC√ÅNICA      0\n",
              "LICENCIATURA EN INFORM√ÅTICA         0\n",
              "Name: nuevo.ingreso, dtype: int64"
            ]
          },
          "metadata": {},
          "execution_count": 14
        }
      ]
    }
  ]
}