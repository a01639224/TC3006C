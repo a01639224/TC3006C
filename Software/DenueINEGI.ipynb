{
  "nbformat": 4,
  "nbformat_minor": 0,
  "metadata": {
    "colab": {
      "provenance": []
    },
    "kernelspec": {
      "name": "python3",
      "display_name": "Python 3"
    },
    "language_info": {
      "name": "python"
    }
  },
  "cells": [
    {
      "cell_type": "code",
      "source": [
        "import pandas as pd\n",
        "import numpy as np"
      ],
      "metadata": {
        "id": "nfnuV9kKKFig"
      },
      "execution_count": null,
      "outputs": []
    },
    {
      "cell_type": "code",
      "source": [
        "denueInegiDf = pd.read_csv('/content/drive/MyDrive/denue_inegi_14_.csv', encoding='latin-1')"
      ],
      "metadata": {
        "colab": {
          "base_uri": "https://localhost:8080/"
        },
        "id": "e3LAgNw05pDz",
        "outputId": "77ae1cd5-41a7-4709-de13-8f078b1aa9f3"
      },
      "execution_count": null,
      "outputs": [
        {
          "output_type": "stream",
          "name": "stderr",
          "text": [
            "<ipython-input-2-209b3d41dbde>:1: DtypeWarning: Columns (35) have mixed types. Specify dtype option on import or set low_memory=False.\n",
            "  denueInegiDf = pd.read_csv('/content/drive/MyDrive/denue_inegi_14_.csv', encoding='latin-1')\n"
          ]
        }
      ]
    },
    {
      "cell_type": "code",
      "source": [
        "denueInegiDf.shape"
      ],
      "metadata": {
        "colab": {
          "base_uri": "https://localhost:8080/"
        },
        "id": "cDJVDQsL_edq",
        "outputId": "44e10d71-aba7-4f3c-8ecf-9d0a36f91dc8"
      },
      "execution_count": null,
      "outputs": [
        {
          "output_type": "execute_result",
          "data": {
            "text/plain": [
              "(378439, 42)"
            ]
          },
          "metadata": {},
          "execution_count": 3
        }
      ]
    },
    {
      "cell_type": "code",
      "source": [
        "sierraAmulaDf = denueInegiDf[denueInegiDf['cve_mun'].isin([11, 32, 34, 37, 52, 54, 88, 90, 102, 106, 110])]"
      ],
      "metadata": {
        "id": "J7AOPIvC7Wsi"
      },
      "execution_count": null,
      "outputs": []
    },
    {
      "cell_type": "code",
      "source": [
        "sierraAmulaDf.shape"
      ],
      "metadata": {
        "colab": {
          "base_uri": "https://localhost:8080/"
        },
        "id": "7I3Cr60L9YG5",
        "outputId": "ce1c59f2-612c-4401-8090-2e6f826d81ff"
      },
      "execution_count": null,
      "outputs": [
        {
          "output_type": "execute_result",
          "data": {
            "text/plain": [
              "(5171, 42)"
            ]
          },
          "metadata": {},
          "execution_count": 5
        }
      ]
    },
    {
      "cell_type": "code",
      "source": [
        "actividadesSierraAmula = sierraAmulaDf.groupby(['nombre_act'])['codigo_act'].count().sort_values(ascending=False).head(10)"
      ],
      "metadata": {
        "id": "-FiIkGHN9ZXn"
      },
      "execution_count": null,
      "outputs": []
    },
    {
      "cell_type": "code",
      "source": [
        "actividadesSierraAmula"
      ],
      "metadata": {
        "colab": {
          "base_uri": "https://localhost:8080/"
        },
        "id": "PR22toyRBJfu",
        "outputId": "8141491d-fd2e-48b8-f097-4ae6f332f338"
      },
      "execution_count": null,
      "outputs": [
        {
          "output_type": "execute_result",
          "data": {
            "text/plain": [
              "nombre_act\n",
              "Comercio al por menor en tiendas de abarrotes, ultramarinos y misceláneas    509\n",
              "Salones y clínicas de belleza y peluquerías                                  223\n",
              "Restaurantes con servicio de preparación de tacos y tortas                   197\n",
              "Comercio al por menor de ropa, excepto de bebé y lencería                    181\n",
              "Restaurantes con servicio de preparación de antojitos                        102\n",
              "Reparación mecánica en general de automóviles y camiones                      98\n",
              "Comercio al por menor de carnes rojas                                         90\n",
              "Cafeterías, fuentes de sodas, neverías, refresquerías y similares             87\n",
              "Fabricación de productos de herrería                                          84\n",
              "Comercio al por menor de artículos de papelería                               76\n",
              "Name: codigo_act, dtype: int64"
            ]
          },
          "metadata": {},
          "execution_count": 9
        }
      ]
    }
  ]
}